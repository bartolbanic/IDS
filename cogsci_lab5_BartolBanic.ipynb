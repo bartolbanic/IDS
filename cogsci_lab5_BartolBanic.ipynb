{
 "cells": [
  {
   "cell_type": "markdown",
   "metadata": {},
   "source": [
    "# Laboratory excercise 5\n",
    "\n",
    "The notebook contains excercise connected to the auditory excerice 6. For any questions feel free to contact assistant: eda.jovicic@fer.hr"
   ]
  },
  {
   "cell_type": "code",
   "execution_count": 1,
   "metadata": {},
   "outputs": [],
   "source": [
    "import pandas as pd\n",
    "import numpy as np\n",
    "import statsmodels.formula.api as smf\n",
    "\n",
    "# set seed for consistency\n",
    "np.random.seed(2)"
   ]
  },
  {
   "cell_type": "markdown",
   "metadata": {},
   "source": [
    "1. Load the cleaned dataset from the first exercise. If you haven't saved the dataset, rerun the exercise and save the final dataset."
   ]
  },
  {
   "cell_type": "code",
   "execution_count": 2,
   "metadata": {},
   "outputs": [],
   "source": [
    "file_path = r\"C:\\Users\\ONE\\OneDrive - FFUNIZG\\Radna površina\\Faks\\CogSci\\DataScience\\data\\student_data1.csv\"\n",
    "df = pd.read_csv(file_path)"
   ]
  },
  {
   "cell_type": "markdown",
   "metadata": {},
   "source": [
    "2. Using linear regression, model the MathScore using features: TestPrep, NrSiblings, ParentMaritalStatus and ReadingScore. "
   ]
  },
  {
   "cell_type": "code",
   "execution_count": 4,
   "metadata": {},
   "outputs": [],
   "source": [
    "#Standardization procedure. TestPrep and ParentMaritalStatus are excluded since they are Boolean, while NrSiblings\n",
    "#standardization doesn't make sense due to its structure and meaning.\n",
    "\n",
    "# variables = [\"MathScore\",\"ReadingScore\"]\n",
    "# for var in variables:\n",
    "#     df[var] = (df[var]-df[var].mean())/df[var].std()"
   ]
  },
  {
   "cell_type": "code",
   "execution_count": 5,
   "metadata": {},
   "outputs": [
    {
     "data": {
      "text/html": [
       "<table class=\"simpletable\">\n",
       "<caption>OLS Regression Results</caption>\n",
       "<tr>\n",
       "  <th>Dep. Variable:</th>        <td>MathScore</td>    <th>  R-squared:         </th>  <td>   0.670</td>  \n",
       "</tr>\n",
       "<tr>\n",
       "  <th>Model:</th>                   <td>OLS</td>       <th>  Adj. R-squared:    </th>  <td>   0.669</td>  \n",
       "</tr>\n",
       "<tr>\n",
       "  <th>Method:</th>             <td>Least Squares</td>  <th>  F-statistic:       </th>  <td>   9829.</td>  \n",
       "</tr>\n",
       "<tr>\n",
       "  <th>Date:</th>             <td>Tue, 09 Jan 2024</td> <th>  Prob (F-statistic):</th>   <td>  0.00</td>   \n",
       "</tr>\n",
       "<tr>\n",
       "  <th>Time:</th>                 <td>23:43:25</td>     <th>  Log-Likelihood:    </th> <td>-1.0471e+05</td>\n",
       "</tr>\n",
       "<tr>\n",
       "  <th>No. Observations:</th>      <td> 29117</td>      <th>  AIC:               </th>  <td>2.094e+05</td> \n",
       "</tr>\n",
       "<tr>\n",
       "  <th>Df Residuals:</th>          <td> 29110</td>      <th>  BIC:               </th>  <td>2.095e+05</td> \n",
       "</tr>\n",
       "<tr>\n",
       "  <th>Df Model:</th>              <td>     6</td>      <th>                     </th>      <td> </td>     \n",
       "</tr>\n",
       "<tr>\n",
       "  <th>Covariance Type:</th>      <td>nonrobust</td>    <th>                     </th>      <td> </td>     \n",
       "</tr>\n",
       "</table>\n",
       "<table class=\"simpletable\">\n",
       "<tr>\n",
       "               <td></td>                  <th>coef</th>     <th>std err</th>      <th>t</th>      <th>P>|t|</th>  <th>[0.025</th>    <th>0.975]</th>  \n",
       "</tr>\n",
       "<tr>\n",
       "  <th>Intercept</th>                   <td>    6.2302</td> <td>    0.314</td> <td>   19.867</td> <td> 0.000</td> <td>    5.616</td> <td>    6.845</td>\n",
       "</tr>\n",
       "<tr>\n",
       "  <th>C(TestPrep)[T.1]</th>            <td>    1.1060</td> <td>    0.113</td> <td>    9.807</td> <td> 0.000</td> <td>    0.885</td> <td>    1.327</td>\n",
       "</tr>\n",
       "<tr>\n",
       "  <th>C(ParentMaritalStatus)[T.1]</th> <td>    0.1733</td> <td>    0.145</td> <td>    1.193</td> <td> 0.233</td> <td>   -0.112</td> <td>    0.458</td>\n",
       "</tr>\n",
       "<tr>\n",
       "  <th>C(ParentMaritalStatus)[T.2]</th> <td>   -0.1318</td> <td>    0.168</td> <td>   -0.786</td> <td> 0.432</td> <td>   -0.460</td> <td>    0.197</td>\n",
       "</tr>\n",
       "<tr>\n",
       "  <th>C(ParentMaritalStatus)[T.3]</th> <td>    0.5432</td> <td>    0.396</td> <td>    1.373</td> <td> 0.170</td> <td>   -0.232</td> <td>    1.319</td>\n",
       "</tr>\n",
       "<tr>\n",
       "  <th>NrSiblings</th>                  <td>    0.0155</td> <td>    0.036</td> <td>    0.428</td> <td> 0.668</td> <td>   -0.055</td> <td>    0.086</td>\n",
       "</tr>\n",
       "<tr>\n",
       "  <th>ReadingScore</th>                <td>    0.8570</td> <td>    0.004</td> <td>  239.510</td> <td> 0.000</td> <td>    0.850</td> <td>    0.864</td>\n",
       "</tr>\n",
       "</table>\n",
       "<table class=\"simpletable\">\n",
       "<tr>\n",
       "  <th>Omnibus:</th>       <td>233.486</td> <th>  Durbin-Watson:     </th> <td>   1.987</td>\n",
       "</tr>\n",
       "<tr>\n",
       "  <th>Prob(Omnibus):</th> <td> 0.000</td>  <th>  Jarque-Bera (JB):  </th> <td> 155.618</td>\n",
       "</tr>\n",
       "<tr>\n",
       "  <th>Skew:</th>          <td>-0.010</td>  <th>  Prob(JB):          </th> <td>1.61e-34</td>\n",
       "</tr>\n",
       "<tr>\n",
       "  <th>Kurtosis:</th>      <td> 2.642</td>  <th>  Cond. No.          </th> <td>    562.</td>\n",
       "</tr>\n",
       "</table><br/><br/>Notes:<br/>[1] Standard Errors assume that the covariance matrix of the errors is correctly specified."
      ],
      "text/latex": [
       "\\begin{center}\n",
       "\\begin{tabular}{lclc}\n",
       "\\toprule\n",
       "\\textbf{Dep. Variable:}              &    MathScore     & \\textbf{  R-squared:         } &      0.670   \\\\\n",
       "\\textbf{Model:}                      &       OLS        & \\textbf{  Adj. R-squared:    } &      0.669   \\\\\n",
       "\\textbf{Method:}                     &  Least Squares   & \\textbf{  F-statistic:       } &      9829.   \\\\\n",
       "\\textbf{Date:}                       & Tue, 09 Jan 2024 & \\textbf{  Prob (F-statistic):} &      0.00    \\\\\n",
       "\\textbf{Time:}                       &     23:43:25     & \\textbf{  Log-Likelihood:    } & -1.0471e+05  \\\\\n",
       "\\textbf{No. Observations:}           &       29117      & \\textbf{  AIC:               } &  2.094e+05   \\\\\n",
       "\\textbf{Df Residuals:}               &       29110      & \\textbf{  BIC:               } &  2.095e+05   \\\\\n",
       "\\textbf{Df Model:}                   &           6      & \\textbf{                     } &              \\\\\n",
       "\\textbf{Covariance Type:}            &    nonrobust     & \\textbf{                     } &              \\\\\n",
       "\\bottomrule\n",
       "\\end{tabular}\n",
       "\\begin{tabular}{lcccccc}\n",
       "                                     & \\textbf{coef} & \\textbf{std err} & \\textbf{t} & \\textbf{P$> |$t$|$} & \\textbf{[0.025} & \\textbf{0.975]}  \\\\\n",
       "\\midrule\n",
       "\\textbf{Intercept}                   &       6.2302  &        0.314     &    19.867  &         0.000        &        5.616    &        6.845     \\\\\n",
       "\\textbf{C(TestPrep)[T.1]}            &       1.1060  &        0.113     &     9.807  &         0.000        &        0.885    &        1.327     \\\\\n",
       "\\textbf{C(ParentMaritalStatus)[T.1]} &       0.1733  &        0.145     &     1.193  &         0.233        &       -0.112    &        0.458     \\\\\n",
       "\\textbf{C(ParentMaritalStatus)[T.2]} &      -0.1318  &        0.168     &    -0.786  &         0.432        &       -0.460    &        0.197     \\\\\n",
       "\\textbf{C(ParentMaritalStatus)[T.3]} &       0.5432  &        0.396     &     1.373  &         0.170        &       -0.232    &        1.319     \\\\\n",
       "\\textbf{NrSiblings}                  &       0.0155  &        0.036     &     0.428  &         0.668        &       -0.055    &        0.086     \\\\\n",
       "\\textbf{ReadingScore}                &       0.8570  &        0.004     &   239.510  &         0.000        &        0.850    &        0.864     \\\\\n",
       "\\bottomrule\n",
       "\\end{tabular}\n",
       "\\begin{tabular}{lclc}\n",
       "\\textbf{Omnibus:}       & 233.486 & \\textbf{  Durbin-Watson:     } &    1.987  \\\\\n",
       "\\textbf{Prob(Omnibus):} &   0.000 & \\textbf{  Jarque-Bera (JB):  } &  155.618  \\\\\n",
       "\\textbf{Skew:}          &  -0.010 & \\textbf{  Prob(JB):          } & 1.61e-34  \\\\\n",
       "\\textbf{Kurtosis:}      &   2.642 & \\textbf{  Cond. No.          } &     562.  \\\\\n",
       "\\bottomrule\n",
       "\\end{tabular}\n",
       "%\\caption{OLS Regression Results}\n",
       "\\end{center}\n",
       "\n",
       "Notes: \\newline\n",
       " [1] Standard Errors assume that the covariance matrix of the errors is correctly specified."
      ],
      "text/plain": [
       "<class 'statsmodels.iolib.summary.Summary'>\n",
       "\"\"\"\n",
       "                            OLS Regression Results                            \n",
       "==============================================================================\n",
       "Dep. Variable:              MathScore   R-squared:                       0.670\n",
       "Model:                            OLS   Adj. R-squared:                  0.669\n",
       "Method:                 Least Squares   F-statistic:                     9829.\n",
       "Date:                Tue, 09 Jan 2024   Prob (F-statistic):               0.00\n",
       "Time:                        23:43:25   Log-Likelihood:            -1.0471e+05\n",
       "No. Observations:               29117   AIC:                         2.094e+05\n",
       "Df Residuals:                   29110   BIC:                         2.095e+05\n",
       "Df Model:                           6                                         \n",
       "Covariance Type:            nonrobust                                         \n",
       "===============================================================================================\n",
       "                                  coef    std err          t      P>|t|      [0.025      0.975]\n",
       "-----------------------------------------------------------------------------------------------\n",
       "Intercept                       6.2302      0.314     19.867      0.000       5.616       6.845\n",
       "C(TestPrep)[T.1]                1.1060      0.113      9.807      0.000       0.885       1.327\n",
       "C(ParentMaritalStatus)[T.1]     0.1733      0.145      1.193      0.233      -0.112       0.458\n",
       "C(ParentMaritalStatus)[T.2]    -0.1318      0.168     -0.786      0.432      -0.460       0.197\n",
       "C(ParentMaritalStatus)[T.3]     0.5432      0.396      1.373      0.170      -0.232       1.319\n",
       "NrSiblings                      0.0155      0.036      0.428      0.668      -0.055       0.086\n",
       "ReadingScore                    0.8570      0.004    239.510      0.000       0.850       0.864\n",
       "==============================================================================\n",
       "Omnibus:                      233.486   Durbin-Watson:                   1.987\n",
       "Prob(Omnibus):                  0.000   Jarque-Bera (JB):              155.618\n",
       "Skew:                          -0.010   Prob(JB):                     1.61e-34\n",
       "Kurtosis:                       2.642   Cond. No.                         562.\n",
       "==============================================================================\n",
       "\n",
       "Notes:\n",
       "[1] Standard Errors assume that the covariance matrix of the errors is correctly specified.\n",
       "\"\"\""
      ]
     },
     "execution_count": 5,
     "metadata": {},
     "output_type": "execute_result"
    }
   ],
   "source": [
    "model1 = smf.ols(formula=\"MathScore ~ C(TestPrep) + NrSiblings + C(ParentMaritalStatus) + ReadingScore\", data=df)\n",
    "\n",
    "res1 = model1.fit()\n",
    "res1.summary()"
   ]
  },
  {
   "cell_type": "code",
   "execution_count": 3,
   "metadata": {},
   "outputs": [],
   "source": [
    "#A model with interactions included.\n",
    "#model2 = smf.ols(formula=\"MathScore ~ C(TestPrep)*C(ParentMaritalStatus)*ReadingScore*NrSiblings\", data=df)\n",
    "\n",
    "#res2 = model.fit()\n",
    "#res2.summary()"
   ]
  },
  {
   "cell_type": "markdown",
   "metadata": {},
   "source": [
    "Questions:\n",
    "\n",
    "a) Using the summary, write down the formula with coefficients\n",
    "\n",
    "$MathScore = 6.2302 + 0.8570×ReadingScore + 1.106 * TestPrep + (0.1733*ParentMaritalStatus[T.1] −0.1318×C(ParentMaritalStatus)[T.2] + 0.5432×C(ParentMaritalStatus)[T.3]) + 0.0155×NrSiblings$\n",
    "\n",
    "ParentMaritalStatus is added depending on the category the row belongs to: if it belongs to class 0, none of the elements are added, while if it belongs to 1,2, or 3 only the corresponding ParentMaritalStatus [T1], [T2] or [T3] is scaled and added while others are ignored."
   ]
  },
  {
   "cell_type": "markdown",
   "metadata": {},
   "source": [
    "b) Are there any statisticaly important features?"
   ]
  },
  {
   "cell_type": "markdown",
   "metadata": {},
   "source": [
    "Yes, for the *p<.05* level of significance:\n",
    "**TestPrep** (*p<.001*) and **ReadingScore** (*p<.001*) are statisctically important features."
   ]
  },
  {
   "cell_type": "markdown",
   "metadata": {},
   "source": []
  },
  {
   "cell_type": "markdown",
   "metadata": {},
   "source": [
    "c) Let's interpret the data, if students do test preparation, how does that affect the outcome on the math exam? "
   ]
  },
  {
   "cell_type": "markdown",
   "metadata": {},
   "source": [
    "For the given model, if a student does test preparation (**TestPrep [T.1]**), leaving all other variable values unchanged, the outcome of the math exam is boosted by 1.106 points."
   ]
  },
  {
   "cell_type": "markdown",
   "metadata": {},
   "source": []
  },
  {
   "cell_type": "markdown",
   "metadata": {},
   "source": [
    "d) Are students who practice sport better at math exams or worse? Using linear regression, model the MathScore using only one feature: PracticeSport. Don't include intercept. Using summary, decide which students do the best at math exams - those who never practice sport, sometimes practice sport or those who do it regularly?"
   ]
  },
  {
   "cell_type": "code",
   "execution_count": 6,
   "metadata": {},
   "outputs": [
    {
     "data": {
      "text/html": [
       "<table class=\"simpletable\">\n",
       "<caption>OLS Regression Results</caption>\n",
       "<tr>\n",
       "  <th>Dep. Variable:</th>        <td>MathScore</td>    <th>  R-squared:         </th>  <td>   0.006</td>  \n",
       "</tr>\n",
       "<tr>\n",
       "  <th>Model:</th>                   <td>OLS</td>       <th>  Adj. R-squared:    </th>  <td>   0.006</td>  \n",
       "</tr>\n",
       "<tr>\n",
       "  <th>Method:</th>             <td>Least Squares</td>  <th>  F-statistic:       </th>  <td>   87.35</td>  \n",
       "</tr>\n",
       "<tr>\n",
       "  <th>Date:</th>             <td>Tue, 09 Jan 2024</td> <th>  Prob (F-statistic):</th>  <td>1.51e-38</td>  \n",
       "</tr>\n",
       "<tr>\n",
       "  <th>Time:</th>                 <td>23:51:19</td>     <th>  Log-Likelihood:    </th> <td>-1.2074e+05</td>\n",
       "</tr>\n",
       "<tr>\n",
       "  <th>No. Observations:</th>      <td> 29117</td>      <th>  AIC:               </th>  <td>2.415e+05</td> \n",
       "</tr>\n",
       "<tr>\n",
       "  <th>Df Residuals:</th>          <td> 29114</td>      <th>  BIC:               </th>  <td>2.415e+05</td> \n",
       "</tr>\n",
       "<tr>\n",
       "  <th>Df Model:</th>              <td>     2</td>      <th>                     </th>      <td> </td>     \n",
       "</tr>\n",
       "<tr>\n",
       "  <th>Covariance Type:</th>      <td>nonrobust</td>    <th>                     </th>      <td> </td>     \n",
       "</tr>\n",
       "</table>\n",
       "<table class=\"simpletable\">\n",
       "<tr>\n",
       "            <td></td>               <th>coef</th>     <th>std err</th>      <th>t</th>      <th>P>|t|</th>  <th>[0.025</th>    <th>0.975]</th>  \n",
       "</tr>\n",
       "<tr>\n",
       "  <th>Intercept</th>             <td>   64.1576</td> <td>    0.244</td> <td>  262.426</td> <td> 0.000</td> <td>   63.678</td> <td>   64.637</td>\n",
       "</tr>\n",
       "<tr>\n",
       "  <th>C(PracticeSport)[T.1]</th> <td>    3.6865</td> <td>    0.287</td> <td>   12.858</td> <td> 0.000</td> <td>    3.125</td> <td>    4.248</td>\n",
       "</tr>\n",
       "<tr>\n",
       "  <th>C(PracticeSport)[T.2]</th> <td>    2.1320</td> <td>    0.275</td> <td>    7.753</td> <td> 0.000</td> <td>    1.593</td> <td>    2.671</td>\n",
       "</tr>\n",
       "</table>\n",
       "<table class=\"simpletable\">\n",
       "<tr>\n",
       "  <th>Omnibus:</th>       <td>234.462</td> <th>  Durbin-Watson:     </th> <td>   1.981</td>\n",
       "</tr>\n",
       "<tr>\n",
       "  <th>Prob(Omnibus):</th> <td> 0.000</td>  <th>  Jarque-Bera (JB):  </th> <td> 214.722</td>\n",
       "</tr>\n",
       "<tr>\n",
       "  <th>Skew:</th>          <td>-0.171</td>  <th>  Prob(JB):          </th> <td>2.36e-47</td>\n",
       "</tr>\n",
       "<tr>\n",
       "  <th>Kurtosis:</th>      <td> 2.756</td>  <th>  Cond. No.          </th> <td>    5.81</td>\n",
       "</tr>\n",
       "</table><br/><br/>Notes:<br/>[1] Standard Errors assume that the covariance matrix of the errors is correctly specified."
      ],
      "text/latex": [
       "\\begin{center}\n",
       "\\begin{tabular}{lclc}\n",
       "\\toprule\n",
       "\\textbf{Dep. Variable:}        &    MathScore     & \\textbf{  R-squared:         } &      0.006   \\\\\n",
       "\\textbf{Model:}                &       OLS        & \\textbf{  Adj. R-squared:    } &      0.006   \\\\\n",
       "\\textbf{Method:}               &  Least Squares   & \\textbf{  F-statistic:       } &      87.35   \\\\\n",
       "\\textbf{Date:}                 & Tue, 09 Jan 2024 & \\textbf{  Prob (F-statistic):} &   1.51e-38   \\\\\n",
       "\\textbf{Time:}                 &     23:51:19     & \\textbf{  Log-Likelihood:    } & -1.2074e+05  \\\\\n",
       "\\textbf{No. Observations:}     &       29117      & \\textbf{  AIC:               } &  2.415e+05   \\\\\n",
       "\\textbf{Df Residuals:}         &       29114      & \\textbf{  BIC:               } &  2.415e+05   \\\\\n",
       "\\textbf{Df Model:}             &           2      & \\textbf{                     } &              \\\\\n",
       "\\textbf{Covariance Type:}      &    nonrobust     & \\textbf{                     } &              \\\\\n",
       "\\bottomrule\n",
       "\\end{tabular}\n",
       "\\begin{tabular}{lcccccc}\n",
       "                               & \\textbf{coef} & \\textbf{std err} & \\textbf{t} & \\textbf{P$> |$t$|$} & \\textbf{[0.025} & \\textbf{0.975]}  \\\\\n",
       "\\midrule\n",
       "\\textbf{Intercept}             &      64.1576  &        0.244     &   262.426  &         0.000        &       63.678    &       64.637     \\\\\n",
       "\\textbf{C(PracticeSport)[T.1]} &       3.6865  &        0.287     &    12.858  &         0.000        &        3.125    &        4.248     \\\\\n",
       "\\textbf{C(PracticeSport)[T.2]} &       2.1320  &        0.275     &     7.753  &         0.000        &        1.593    &        2.671     \\\\\n",
       "\\bottomrule\n",
       "\\end{tabular}\n",
       "\\begin{tabular}{lclc}\n",
       "\\textbf{Omnibus:}       & 234.462 & \\textbf{  Durbin-Watson:     } &    1.981  \\\\\n",
       "\\textbf{Prob(Omnibus):} &   0.000 & \\textbf{  Jarque-Bera (JB):  } &  214.722  \\\\\n",
       "\\textbf{Skew:}          &  -0.171 & \\textbf{  Prob(JB):          } & 2.36e-47  \\\\\n",
       "\\textbf{Kurtosis:}      &   2.756 & \\textbf{  Cond. No.          } &     5.81  \\\\\n",
       "\\bottomrule\n",
       "\\end{tabular}\n",
       "%\\caption{OLS Regression Results}\n",
       "\\end{center}\n",
       "\n",
       "Notes: \\newline\n",
       " [1] Standard Errors assume that the covariance matrix of the errors is correctly specified."
      ],
      "text/plain": [
       "<class 'statsmodels.iolib.summary.Summary'>\n",
       "\"\"\"\n",
       "                            OLS Regression Results                            \n",
       "==============================================================================\n",
       "Dep. Variable:              MathScore   R-squared:                       0.006\n",
       "Model:                            OLS   Adj. R-squared:                  0.006\n",
       "Method:                 Least Squares   F-statistic:                     87.35\n",
       "Date:                Tue, 09 Jan 2024   Prob (F-statistic):           1.51e-38\n",
       "Time:                        23:51:19   Log-Likelihood:            -1.2074e+05\n",
       "No. Observations:               29117   AIC:                         2.415e+05\n",
       "Df Residuals:                   29114   BIC:                         2.415e+05\n",
       "Df Model:                           2                                         \n",
       "Covariance Type:            nonrobust                                         \n",
       "=========================================================================================\n",
       "                            coef    std err          t      P>|t|      [0.025      0.975]\n",
       "-----------------------------------------------------------------------------------------\n",
       "Intercept                64.1576      0.244    262.426      0.000      63.678      64.637\n",
       "C(PracticeSport)[T.1]     3.6865      0.287     12.858      0.000       3.125       4.248\n",
       "C(PracticeSport)[T.2]     2.1320      0.275      7.753      0.000       1.593       2.671\n",
       "==============================================================================\n",
       "Omnibus:                      234.462   Durbin-Watson:                   1.981\n",
       "Prob(Omnibus):                  0.000   Jarque-Bera (JB):              214.722\n",
       "Skew:                          -0.171   Prob(JB):                     2.36e-47\n",
       "Kurtosis:                       2.756   Cond. No.                         5.81\n",
       "==============================================================================\n",
       "\n",
       "Notes:\n",
       "[1] Standard Errors assume that the covariance matrix of the errors is correctly specified.\n",
       "\"\"\""
      ]
     },
     "execution_count": 6,
     "metadata": {},
     "output_type": "execute_result"
    }
   ],
   "source": [
    "# Declare the model\n",
    "mod_sp = smf.ols(formula = \"MathScore ~ C(PracticeSport)\", data=df)\n",
    "res_sp = mod_sp.fit()\n",
    "res_sp.summary()"
   ]
  },
  {
   "cell_type": "markdown",
   "metadata": {},
   "source": [
    "(**PracticeSport** label encoding: 0 signifies *Never*, 1 signifies *regularly*, 2 signifies *sometimes*.)\n",
    "\n",
    "Those who *regularly* (**T1**) practise sport perform best at the math exam - with +3.6865 in comparison to those *never* practising sport; while those practising sport *sometimes* (**T2**) perform second best - with +2.1320 results with regards to those *never* practising."
   ]
  },
  {
   "cell_type": "markdown",
   "metadata": {},
   "source": []
  }
 ],
 "metadata": {
  "interpreter": {
   "hash": "e7370f93d1d0cde622a1f8e1c04877d8463912d04d973331ad4851f04de6915a"
  },
  "kernelspec": {
   "display_name": "Python 3 (ipykernel)",
   "language": "python",
   "name": "python3"
  },
  "language_info": {
   "codemirror_mode": {
    "name": "ipython",
    "version": 3
   },
   "file_extension": ".py",
   "mimetype": "text/x-python",
   "name": "python",
   "nbconvert_exporter": "python",
   "pygments_lexer": "ipython3",
   "version": "3.10.2"
  }
 },
 "nbformat": 4,
 "nbformat_minor": 2
}
