{
 "cells": [
  {
   "cell_type": "markdown",
   "id": "30e9ce05",
   "metadata": {},
   "source": [
    "# Laboratory exercise 4\n",
    "\n",
    "In this laboratory exercise you will use the questionnaire and answers given below"
   ]
  },
  {
   "cell_type": "code",
   "execution_count": 1,
   "id": "d6820020",
   "metadata": {},
   "outputs": [],
   "source": [
    "import numpy as np\n",
    "import pandas as pd"
   ]
  },
  {
   "cell_type": "code",
   "execution_count": 2,
   "id": "c53f916c",
   "metadata": {},
   "outputs": [],
   "source": [
    "questionnaire = pd.DataFrame({'Q1': [1, 2, 2, 3, 2, 2, 3, 3, 2, 3],\n",
    "                              'Q2': [1, 1, 1, 2, 3, 3, 2, 3, 3, 3],\n",
    "                              'Q3': [1, 1, 2, 1, 2, 3, 3, 3, 2, 3]})"
   ]
  },
  {
   "cell_type": "markdown",
   "id": "ce36a49d",
   "metadata": {},
   "source": [
    "1. Write a function to detrmine the realiability of the questionnaire answers with Cronbach's Alpha."
   ]
  },
  {
   "cell_type": "code",
   "execution_count": 5,
   "id": "16662067",
   "metadata": {},
   "outputs": [],
   "source": [
    "def cronbach_alpha_alt(df):\n",
    "    df_corr = df.corr()\n",
    "    N = df.shape[1]\n",
    "    rs = np.array([])\n",
    "    for i, col in enumerate(df_corr.columns):\n",
    "        sum_ = df_corr[col][i+1:].values\n",
    "        rs = np.append(sum_, rs)\n",
    "    mean_r = np.mean(rs)\n",
    "    cronbach_alpha = (N * mean_r) / (1 + (N - 1) * mean_r)\n",
    "    return cronbach_alpha"
   ]
  },
  {
   "cell_type": "code",
   "execution_count": 6,
   "id": "eaace0f0",
   "metadata": {
    "scrolled": true
   },
   "outputs": [
    {
     "data": {
      "text/plain": [
       "0.7742910373931704"
      ]
     },
     "execution_count": 6,
     "metadata": {},
     "output_type": "execute_result"
    }
   ],
   "source": [
    "cronbach_alpha_alt(questionnaire)"
   ]
  },
  {
   "cell_type": "code",
   "execution_count": 3,
   "id": "70628fdc",
   "metadata": {},
   "outputs": [],
   "source": [
    "#an alternative approach with small numeric difference in result due to implicitly applied theoretical statistical corrections\n",
    "def cronbach_alpha(data):\n",
    "    k = data.shape[1]\n",
    "    total_var = np.var(np.sum(data, axis=1))\n",
    "    item_vars = np.var(data, axis=0)\n",
    "    alpha = (k / (k - 1)) * (1 - (np.sum(item_vars) / total_var))\n",
    "    return alpha"
   ]
  },
  {
   "cell_type": "code",
   "execution_count": 4,
   "id": "add4fc0a",
   "metadata": {},
   "outputs": [
    {
     "data": {
      "text/plain": [
       "0.7734375000000002"
      ]
     },
     "execution_count": 4,
     "metadata": {},
     "output_type": "execute_result"
    }
   ],
   "source": [
    "cronbach_alpha(questionnaire)"
   ]
  },
  {
   "cell_type": "markdown",
   "id": "69cb9d0a",
   "metadata": {},
   "source": [
    "2. Explain the differences between in-house data labeling, crowdsourcing and outsourcing. "
   ]
  },
  {
   "cell_type": "markdown",
   "id": "9f54b626",
   "metadata": {},
   "source": [
    "In-house data labeling is performed by the organization's employees or subject-matter experts. Although speed and scale are limited by the organization's size, this type of labeling is undertaken when domain-specific knowledge is necessary, quality control is crucial and/or complete confidentiality is required. Legal documents, insurance, and medical data are examples of projects which might necessitate in-house labeling.\n",
    "\n",
    "Crowdsourcing is based upon work done by large, oftentimes anonymous groups of individuals contacted primarily through online platforms. This method is cost-effective, quick and highly scalable. However, since quality control is limited, it is used primarily for general annotating tasks requiring minimal domain-specific expertise, such as image classification or speech recognition.\n",
    "\n",
    "Outsourcing inovlves a contract with a third-party service or company often times with trained annotators. Some control over the data labelling process is retained, while some is lost at the expanse of scale and cost-effectiveness. Therefore, it is best suited for tasks requiring a balance of control and scale, such as transcription work."
   ]
  },
  {
   "cell_type": "markdown",
   "id": "ce3d3e91",
   "metadata": {},
   "source": [
    "3. Explain the main differences between annotation for image classification, object detection and image segmentation."
   ]
  },
  {
   "cell_type": "markdown",
   "id": "591d1639",
   "metadata": {},
   "source": [
    "Image classification requires annotators to provide labels that describes the primary content of an image. The output is a labeled dataset where each image has either one or multimple labels corresponding to the machine learning task of binary or multiclass classification, respectively. The fundamental question is \"What is in the image?\" and so it is used, for example, in general image classification projects.\n",
    "\n",
    "Object detection demands marking with the smallest possible rectangle (bounding box) objects of interes and associating corresponding object class to each. Thus, objects of interest are both identified and located within the image. The question is \"What objects are in the image and where are they located?\" and is thus suitable in autonomous vehicle or surveillence system projects.\n",
    "\n",
    "Image segmentation aims to divide an image into regions or segments, where each segment represents a distinct object or region within the image. Annotators provide pixel-level outlines for each object or region of interest. It answeres the question \"Whare are the boundaries of different objects or regions in the image?\" and find application in image editing or medical image analysis."
   ]
  }
 ],
 "metadata": {
  "kernelspec": {
   "display_name": "Python 3 (ipykernel)",
   "language": "python",
   "name": "python3"
  },
  "language_info": {
   "codemirror_mode": {
    "name": "ipython",
    "version": 3
   },
   "file_extension": ".py",
   "mimetype": "text/x-python",
   "name": "python",
   "nbconvert_exporter": "python",
   "pygments_lexer": "ipython3",
   "version": "3.10.2"
  }
 },
 "nbformat": 4,
 "nbformat_minor": 5
}
