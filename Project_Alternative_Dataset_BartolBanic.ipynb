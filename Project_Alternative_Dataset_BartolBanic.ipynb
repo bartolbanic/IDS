{
 "cells": [
  {
   "cell_type": "markdown",
   "id": "ac681cce",
   "metadata": {},
   "source": [
    "### This notebook consists only of preprocessing of the data (heart_disease_uci) the assistant shared with us at the final auditory exercises. The data is processed so as to equal completely the one in the other jupyter notebook (Predicting_Heart_Failure_BartolBanic) where all the further processing is performed.\n",
    "### The final data in this notebook and the starting data used in that one are here made to be completely equivalent."
   ]
  },
  {
   "cell_type": "code",
   "execution_count": 1,
   "id": "c0e2061f",
   "metadata": {},
   "outputs": [],
   "source": [
    "import pandas as pd\n",
    "import pandas as pd\n",
    "import numpy as np\n",
    "import seaborn as sns\n",
    "import matplotlib.pyplot as plt\n",
    "from sklearn.neighbors import KNeighborsClassifier\n",
    "import seaborn as sns\n",
    "from sklearn.preprocessing import LabelEncoder"
   ]
  },
  {
   "cell_type": "code",
   "execution_count": 2,
   "id": "e8b61c2e",
   "metadata": {},
   "outputs": [],
   "source": [
    "import warnings\n",
    "warnings.filterwarnings('ignore')"
   ]
  },
  {
   "cell_type": "code",
   "execution_count": 3,
   "id": "66f02cf9",
   "metadata": {},
   "outputs": [],
   "source": [
    "filepath=r\"C:\\Users\\ONE\\OneDrive - FFUNIZG\\Radna površina\\Faks\\CogSci\\DataScience\\BartolProjekt\\Data\\heart_disease_uci_novi.csv\"\n",
    "data = pd.read_csv(filepath, index_col=0)"
   ]
  },
  {
   "cell_type": "code",
   "execution_count": 4,
   "id": "83fdb257",
   "metadata": {},
   "outputs": [
    {
     "data": {
      "text/html": [
       "<div>\n",
       "<style scoped>\n",
       "    .dataframe tbody tr th:only-of-type {\n",
       "        vertical-align: middle;\n",
       "    }\n",
       "\n",
       "    .dataframe tbody tr th {\n",
       "        vertical-align: top;\n",
       "    }\n",
       "\n",
       "    .dataframe thead th {\n",
       "        text-align: right;\n",
       "    }\n",
       "</style>\n",
       "<table border=\"1\" class=\"dataframe\">\n",
       "  <thead>\n",
       "    <tr style=\"text-align: right;\">\n",
       "      <th></th>\n",
       "      <th>age</th>\n",
       "      <th>sex</th>\n",
       "      <th>dataset</th>\n",
       "      <th>cp</th>\n",
       "      <th>trestbps</th>\n",
       "      <th>chol</th>\n",
       "      <th>fbs</th>\n",
       "      <th>restecg</th>\n",
       "      <th>thalch</th>\n",
       "      <th>exang</th>\n",
       "      <th>oldpeak</th>\n",
       "      <th>slope</th>\n",
       "      <th>ca</th>\n",
       "      <th>thal</th>\n",
       "      <th>num</th>\n",
       "    </tr>\n",
       "    <tr>\n",
       "      <th>id</th>\n",
       "      <th></th>\n",
       "      <th></th>\n",
       "      <th></th>\n",
       "      <th></th>\n",
       "      <th></th>\n",
       "      <th></th>\n",
       "      <th></th>\n",
       "      <th></th>\n",
       "      <th></th>\n",
       "      <th></th>\n",
       "      <th></th>\n",
       "      <th></th>\n",
       "      <th></th>\n",
       "      <th></th>\n",
       "      <th></th>\n",
       "    </tr>\n",
       "  </thead>\n",
       "  <tbody>\n",
       "    <tr>\n",
       "      <th>1</th>\n",
       "      <td>63</td>\n",
       "      <td>Male</td>\n",
       "      <td>Cleveland</td>\n",
       "      <td>typical angina</td>\n",
       "      <td>145.0</td>\n",
       "      <td>233.0</td>\n",
       "      <td>True</td>\n",
       "      <td>lv hypertrophy</td>\n",
       "      <td>150.0</td>\n",
       "      <td>False</td>\n",
       "      <td>2.3</td>\n",
       "      <td>downsloping</td>\n",
       "      <td>0.0</td>\n",
       "      <td>fixed defect</td>\n",
       "      <td>0</td>\n",
       "    </tr>\n",
       "    <tr>\n",
       "      <th>2</th>\n",
       "      <td>67</td>\n",
       "      <td>Male</td>\n",
       "      <td>Cleveland</td>\n",
       "      <td>asymptomatic</td>\n",
       "      <td>160.0</td>\n",
       "      <td>286.0</td>\n",
       "      <td>False</td>\n",
       "      <td>lv hypertrophy</td>\n",
       "      <td>108.0</td>\n",
       "      <td>True</td>\n",
       "      <td>1.5</td>\n",
       "      <td>flat</td>\n",
       "      <td>3.0</td>\n",
       "      <td>normal</td>\n",
       "      <td>2</td>\n",
       "    </tr>\n",
       "    <tr>\n",
       "      <th>3</th>\n",
       "      <td>67</td>\n",
       "      <td>Male</td>\n",
       "      <td>Cleveland</td>\n",
       "      <td>asymptomatic</td>\n",
       "      <td>120.0</td>\n",
       "      <td>229.0</td>\n",
       "      <td>False</td>\n",
       "      <td>lv hypertrophy</td>\n",
       "      <td>129.0</td>\n",
       "      <td>True</td>\n",
       "      <td>2.6</td>\n",
       "      <td>flat</td>\n",
       "      <td>2.0</td>\n",
       "      <td>reversable defect</td>\n",
       "      <td>1</td>\n",
       "    </tr>\n",
       "    <tr>\n",
       "      <th>4</th>\n",
       "      <td>37</td>\n",
       "      <td>Male</td>\n",
       "      <td>Cleveland</td>\n",
       "      <td>non-anginal</td>\n",
       "      <td>130.0</td>\n",
       "      <td>250.0</td>\n",
       "      <td>False</td>\n",
       "      <td>normal</td>\n",
       "      <td>187.0</td>\n",
       "      <td>False</td>\n",
       "      <td>3.5</td>\n",
       "      <td>downsloping</td>\n",
       "      <td>0.0</td>\n",
       "      <td>normal</td>\n",
       "      <td>0</td>\n",
       "    </tr>\n",
       "    <tr>\n",
       "      <th>5</th>\n",
       "      <td>41</td>\n",
       "      <td>Female</td>\n",
       "      <td>Cleveland</td>\n",
       "      <td>atypical angina</td>\n",
       "      <td>130.0</td>\n",
       "      <td>204.0</td>\n",
       "      <td>False</td>\n",
       "      <td>lv hypertrophy</td>\n",
       "      <td>172.0</td>\n",
       "      <td>False</td>\n",
       "      <td>1.4</td>\n",
       "      <td>upsloping</td>\n",
       "      <td>0.0</td>\n",
       "      <td>normal</td>\n",
       "      <td>0</td>\n",
       "    </tr>\n",
       "  </tbody>\n",
       "</table>\n",
       "</div>"
      ],
      "text/plain": [
       "    age     sex    dataset               cp  trestbps   chol    fbs  \\\n",
       "id                                                                    \n",
       "1    63    Male  Cleveland   typical angina     145.0  233.0   True   \n",
       "2    67    Male  Cleveland     asymptomatic     160.0  286.0  False   \n",
       "3    67    Male  Cleveland     asymptomatic     120.0  229.0  False   \n",
       "4    37    Male  Cleveland      non-anginal     130.0  250.0  False   \n",
       "5    41  Female  Cleveland  atypical angina     130.0  204.0  False   \n",
       "\n",
       "           restecg  thalch  exang  oldpeak        slope   ca  \\\n",
       "id                                                             \n",
       "1   lv hypertrophy   150.0  False      2.3  downsloping  0.0   \n",
       "2   lv hypertrophy   108.0   True      1.5         flat  3.0   \n",
       "3   lv hypertrophy   129.0   True      2.6         flat  2.0   \n",
       "4           normal   187.0  False      3.5  downsloping  0.0   \n",
       "5   lv hypertrophy   172.0  False      1.4    upsloping  0.0   \n",
       "\n",
       "                 thal  num  \n",
       "id                          \n",
       "1        fixed defect    0  \n",
       "2              normal    2  \n",
       "3   reversable defect    1  \n",
       "4              normal    0  \n",
       "5              normal    0  "
      ]
     },
     "execution_count": 4,
     "metadata": {},
     "output_type": "execute_result"
    }
   ],
   "source": [
    "data.head()"
   ]
  },
  {
   "cell_type": "code",
   "execution_count": 5,
   "id": "1fddbfad",
   "metadata": {},
   "outputs": [
    {
     "data": {
      "text/plain": [
       "age           0\n",
       "sex           0\n",
       "dataset       0\n",
       "cp            0\n",
       "trestbps     59\n",
       "chol         30\n",
       "fbs          90\n",
       "restecg       2\n",
       "thalch       55\n",
       "exang        55\n",
       "oldpeak      62\n",
       "slope       309\n",
       "ca          611\n",
       "thal        486\n",
       "num           0\n",
       "dtype: int64"
      ]
     },
     "execution_count": 5,
     "metadata": {},
     "output_type": "execute_result"
    }
   ],
   "source": [
    "data.isna().sum()"
   ]
  },
  {
   "cell_type": "code",
   "execution_count": 6,
   "id": "9e71c7ec",
   "metadata": {},
   "outputs": [
    {
     "name": "stdout",
     "output_type": "stream",
     "text": [
      "<class 'pandas.core.frame.DataFrame'>\n",
      "Index: 920 entries, 1 to 920\n",
      "Data columns (total 15 columns):\n",
      " #   Column    Non-Null Count  Dtype  \n",
      "---  ------    --------------  -----  \n",
      " 0   age       920 non-null    int64  \n",
      " 1   sex       920 non-null    object \n",
      " 2   dataset   920 non-null    object \n",
      " 3   cp        920 non-null    object \n",
      " 4   trestbps  861 non-null    float64\n",
      " 5   chol      890 non-null    float64\n",
      " 6   fbs       830 non-null    object \n",
      " 7   restecg   918 non-null    object \n",
      " 8   thalch    865 non-null    float64\n",
      " 9   exang     865 non-null    object \n",
      " 10  oldpeak   858 non-null    float64\n",
      " 11  slope     611 non-null    object \n",
      " 12  ca        309 non-null    float64\n",
      " 13  thal      434 non-null    object \n",
      " 14  num       920 non-null    int64  \n",
      "dtypes: float64(5), int64(2), object(8)\n",
      "memory usage: 115.0+ KB\n"
     ]
    }
   ],
   "source": [
    "data.info()"
   ]
  },
  {
   "cell_type": "code",
   "execution_count": 7,
   "id": "632ae720",
   "metadata": {},
   "outputs": [
    {
     "data": {
      "text/plain": [
       "(920, 15)"
      ]
     },
     "execution_count": 7,
     "metadata": {},
     "output_type": "execute_result"
    }
   ],
   "source": [
    "data.shape"
   ]
  },
  {
   "cell_type": "code",
   "execution_count": 8,
   "id": "e53abc27",
   "metadata": {},
   "outputs": [],
   "source": [
    "data_cle = data.loc[data[\"dataset\"]==\"Cleveland\"]"
   ]
  },
  {
   "cell_type": "code",
   "execution_count": 9,
   "id": "44f0492f",
   "metadata": {},
   "outputs": [
    {
     "data": {
      "text/plain": [
       "(304, 15)"
      ]
     },
     "execution_count": 9,
     "metadata": {},
     "output_type": "execute_result"
    }
   ],
   "source": [
    "data_cle.shape"
   ]
  },
  {
   "cell_type": "code",
   "execution_count": 10,
   "id": "341e9895",
   "metadata": {},
   "outputs": [
    {
     "data": {
      "text/plain": [
       "age           int64\n",
       "sex          object\n",
       "dataset      object\n",
       "cp           object\n",
       "trestbps    float64\n",
       "chol        float64\n",
       "fbs          object\n",
       "restecg      object\n",
       "thalch      float64\n",
       "exang        object\n",
       "oldpeak     float64\n",
       "slope        object\n",
       "ca          float64\n",
       "thal         object\n",
       "num           int64\n",
       "dtype: object"
      ]
     },
     "execution_count": 10,
     "metadata": {},
     "output_type": "execute_result"
    }
   ],
   "source": [
    "data_cle.dtypes"
   ]
  },
  {
   "cell_type": "code",
   "execution_count": 11,
   "id": "a7c9a06d",
   "metadata": {},
   "outputs": [
    {
     "data": {
      "text/plain": [
       "age         0\n",
       "sex         0\n",
       "dataset     0\n",
       "cp          0\n",
       "trestbps    0\n",
       "chol        0\n",
       "fbs         0\n",
       "restecg     0\n",
       "thalch      0\n",
       "exang       0\n",
       "oldpeak     0\n",
       "slope       1\n",
       "ca          5\n",
       "thal        3\n",
       "num         0\n",
       "dtype: int64"
      ]
     },
     "execution_count": 11,
     "metadata": {},
     "output_type": "execute_result"
    }
   ],
   "source": [
    "data_cle.isna().sum()"
   ]
  },
  {
   "cell_type": "code",
   "execution_count": 12,
   "id": "86b4b5b4",
   "metadata": {},
   "outputs": [
    {
     "data": {
      "text/html": [
       "<div>\n",
       "<style scoped>\n",
       "    .dataframe tbody tr th:only-of-type {\n",
       "        vertical-align: middle;\n",
       "    }\n",
       "\n",
       "    .dataframe tbody tr th {\n",
       "        vertical-align: top;\n",
       "    }\n",
       "\n",
       "    .dataframe thead th {\n",
       "        text-align: right;\n",
       "    }\n",
       "</style>\n",
       "<table border=\"1\" class=\"dataframe\">\n",
       "  <thead>\n",
       "    <tr style=\"text-align: right;\">\n",
       "      <th></th>\n",
       "      <th>age</th>\n",
       "      <th>sex</th>\n",
       "      <th>dataset</th>\n",
       "      <th>cp</th>\n",
       "      <th>trestbps</th>\n",
       "      <th>chol</th>\n",
       "      <th>fbs</th>\n",
       "      <th>restecg</th>\n",
       "      <th>thalch</th>\n",
       "      <th>exang</th>\n",
       "      <th>oldpeak</th>\n",
       "      <th>slope</th>\n",
       "      <th>ca</th>\n",
       "      <th>thal</th>\n",
       "      <th>num</th>\n",
       "    </tr>\n",
       "    <tr>\n",
       "      <th>id</th>\n",
       "      <th></th>\n",
       "      <th></th>\n",
       "      <th></th>\n",
       "      <th></th>\n",
       "      <th></th>\n",
       "      <th></th>\n",
       "      <th></th>\n",
       "      <th></th>\n",
       "      <th></th>\n",
       "      <th></th>\n",
       "      <th></th>\n",
       "      <th></th>\n",
       "      <th></th>\n",
       "      <th></th>\n",
       "      <th></th>\n",
       "    </tr>\n",
       "  </thead>\n",
       "  <tbody>\n",
       "    <tr>\n",
       "      <th>304</th>\n",
       "      <td>28</td>\n",
       "      <td>Male</td>\n",
       "      <td>Cleveland</td>\n",
       "      <td>atypical angina</td>\n",
       "      <td>130.0</td>\n",
       "      <td>132.0</td>\n",
       "      <td>False</td>\n",
       "      <td>lv hypertrophy</td>\n",
       "      <td>185.0</td>\n",
       "      <td>False</td>\n",
       "      <td>0.0</td>\n",
       "      <td>NaN</td>\n",
       "      <td>NaN</td>\n",
       "      <td>NaN</td>\n",
       "      <td>0</td>\n",
       "    </tr>\n",
       "  </tbody>\n",
       "</table>\n",
       "</div>"
      ],
      "text/plain": [
       "     age   sex    dataset               cp  trestbps   chol    fbs  \\\n",
       "id                                                                   \n",
       "304   28  Male  Cleveland  atypical angina     130.0  132.0  False   \n",
       "\n",
       "            restecg  thalch  exang  oldpeak slope  ca thal  num  \n",
       "id                                                               \n",
       "304  lv hypertrophy   185.0  False      0.0   NaN NaN  NaN    0  "
      ]
     },
     "execution_count": 12,
     "metadata": {},
     "output_type": "execute_result"
    }
   ],
   "source": [
    "data_cle.loc[data_cle[\"slope\"].isna()]"
   ]
  },
  {
   "cell_type": "code",
   "execution_count": 13,
   "id": "e030d04a",
   "metadata": {},
   "outputs": [],
   "source": [
    "data_cle = data_cle[data_cle.index !=304]"
   ]
  },
  {
   "cell_type": "code",
   "execution_count": 14,
   "id": "2c85c0b5",
   "metadata": {},
   "outputs": [
    {
     "data": {
      "text/plain": [
       "(303, 15)"
      ]
     },
     "execution_count": 14,
     "metadata": {},
     "output_type": "execute_result"
    }
   ],
   "source": [
    "data_cle.shape"
   ]
  },
  {
   "cell_type": "code",
   "execution_count": 15,
   "id": "1b0c9276",
   "metadata": {},
   "outputs": [
    {
     "data": {
      "text/plain": [
       "age          50\n",
       "sex           2\n",
       "dataset       4\n",
       "cp            4\n",
       "trestbps     61\n",
       "chol        217\n",
       "fbs           2\n",
       "restecg       3\n",
       "thalch      119\n",
       "exang         2\n",
       "oldpeak      53\n",
       "slope         3\n",
       "ca            4\n",
       "thal          3\n",
       "num           5\n",
       "dtype: int64"
      ]
     },
     "execution_count": 15,
     "metadata": {},
     "output_type": "execute_result"
    }
   ],
   "source": [
    "data.nunique()"
   ]
  },
  {
   "cell_type": "code",
   "execution_count": 16,
   "id": "15450746",
   "metadata": {},
   "outputs": [],
   "source": [
    "le = LabelEncoder()\n",
    "le.fit(data_cle.loc[:,\"sex\"])\n",
    "data_cle.loc[:,\"sex\"] = le.transform(data_cle.loc[:,\"sex\"])"
   ]
  },
  {
   "cell_type": "code",
   "execution_count": 17,
   "id": "b372d970",
   "metadata": {},
   "outputs": [
    {
     "name": "stdout",
     "output_type": "stream",
     "text": [
      "Original Label: Female -> Encoded Label: 0\n",
      "Original Label: Male -> Encoded Label: 1\n"
     ]
    }
   ],
   "source": [
    "for class_label, encoded_label in zip(le.classes_, range(len(le.classes_))):\n",
    "    print(f\"Original Label: {class_label} -> Encoded Label: {encoded_label}\")"
   ]
  },
  {
   "cell_type": "code",
   "execution_count": 18,
   "id": "c6fd6489",
   "metadata": {},
   "outputs": [
    {
     "data": {
      "text/html": [
       "<div>\n",
       "<style scoped>\n",
       "    .dataframe tbody tr th:only-of-type {\n",
       "        vertical-align: middle;\n",
       "    }\n",
       "\n",
       "    .dataframe tbody tr th {\n",
       "        vertical-align: top;\n",
       "    }\n",
       "\n",
       "    .dataframe thead th {\n",
       "        text-align: right;\n",
       "    }\n",
       "</style>\n",
       "<table border=\"1\" class=\"dataframe\">\n",
       "  <thead>\n",
       "    <tr style=\"text-align: right;\">\n",
       "      <th></th>\n",
       "      <th>age</th>\n",
       "      <th>sex</th>\n",
       "      <th>dataset</th>\n",
       "      <th>cp</th>\n",
       "      <th>trestbps</th>\n",
       "      <th>chol</th>\n",
       "      <th>fbs</th>\n",
       "      <th>restecg</th>\n",
       "      <th>thalch</th>\n",
       "      <th>exang</th>\n",
       "      <th>oldpeak</th>\n",
       "      <th>slope</th>\n",
       "      <th>ca</th>\n",
       "      <th>thal</th>\n",
       "      <th>num</th>\n",
       "    </tr>\n",
       "    <tr>\n",
       "      <th>id</th>\n",
       "      <th></th>\n",
       "      <th></th>\n",
       "      <th></th>\n",
       "      <th></th>\n",
       "      <th></th>\n",
       "      <th></th>\n",
       "      <th></th>\n",
       "      <th></th>\n",
       "      <th></th>\n",
       "      <th></th>\n",
       "      <th></th>\n",
       "      <th></th>\n",
       "      <th></th>\n",
       "      <th></th>\n",
       "      <th></th>\n",
       "    </tr>\n",
       "  </thead>\n",
       "  <tbody>\n",
       "    <tr>\n",
       "      <th>1</th>\n",
       "      <td>63</td>\n",
       "      <td>1</td>\n",
       "      <td>Cleveland</td>\n",
       "      <td>typical angina</td>\n",
       "      <td>145.0</td>\n",
       "      <td>233.0</td>\n",
       "      <td>True</td>\n",
       "      <td>lv hypertrophy</td>\n",
       "      <td>150.0</td>\n",
       "      <td>False</td>\n",
       "      <td>2.3</td>\n",
       "      <td>downsloping</td>\n",
       "      <td>0.0</td>\n",
       "      <td>fixed defect</td>\n",
       "      <td>0</td>\n",
       "    </tr>\n",
       "    <tr>\n",
       "      <th>2</th>\n",
       "      <td>67</td>\n",
       "      <td>1</td>\n",
       "      <td>Cleveland</td>\n",
       "      <td>asymptomatic</td>\n",
       "      <td>160.0</td>\n",
       "      <td>286.0</td>\n",
       "      <td>False</td>\n",
       "      <td>lv hypertrophy</td>\n",
       "      <td>108.0</td>\n",
       "      <td>True</td>\n",
       "      <td>1.5</td>\n",
       "      <td>flat</td>\n",
       "      <td>3.0</td>\n",
       "      <td>normal</td>\n",
       "      <td>2</td>\n",
       "    </tr>\n",
       "    <tr>\n",
       "      <th>3</th>\n",
       "      <td>67</td>\n",
       "      <td>1</td>\n",
       "      <td>Cleveland</td>\n",
       "      <td>asymptomatic</td>\n",
       "      <td>120.0</td>\n",
       "      <td>229.0</td>\n",
       "      <td>False</td>\n",
       "      <td>lv hypertrophy</td>\n",
       "      <td>129.0</td>\n",
       "      <td>True</td>\n",
       "      <td>2.6</td>\n",
       "      <td>flat</td>\n",
       "      <td>2.0</td>\n",
       "      <td>reversable defect</td>\n",
       "      <td>1</td>\n",
       "    </tr>\n",
       "    <tr>\n",
       "      <th>4</th>\n",
       "      <td>37</td>\n",
       "      <td>1</td>\n",
       "      <td>Cleveland</td>\n",
       "      <td>non-anginal</td>\n",
       "      <td>130.0</td>\n",
       "      <td>250.0</td>\n",
       "      <td>False</td>\n",
       "      <td>normal</td>\n",
       "      <td>187.0</td>\n",
       "      <td>False</td>\n",
       "      <td>3.5</td>\n",
       "      <td>downsloping</td>\n",
       "      <td>0.0</td>\n",
       "      <td>normal</td>\n",
       "      <td>0</td>\n",
       "    </tr>\n",
       "    <tr>\n",
       "      <th>5</th>\n",
       "      <td>41</td>\n",
       "      <td>0</td>\n",
       "      <td>Cleveland</td>\n",
       "      <td>atypical angina</td>\n",
       "      <td>130.0</td>\n",
       "      <td>204.0</td>\n",
       "      <td>False</td>\n",
       "      <td>lv hypertrophy</td>\n",
       "      <td>172.0</td>\n",
       "      <td>False</td>\n",
       "      <td>1.4</td>\n",
       "      <td>upsloping</td>\n",
       "      <td>0.0</td>\n",
       "      <td>normal</td>\n",
       "      <td>0</td>\n",
       "    </tr>\n",
       "  </tbody>\n",
       "</table>\n",
       "</div>"
      ],
      "text/plain": [
       "    age sex    dataset               cp  trestbps   chol    fbs  \\\n",
       "id                                                                \n",
       "1    63   1  Cleveland   typical angina     145.0  233.0   True   \n",
       "2    67   1  Cleveland     asymptomatic     160.0  286.0  False   \n",
       "3    67   1  Cleveland     asymptomatic     120.0  229.0  False   \n",
       "4    37   1  Cleveland      non-anginal     130.0  250.0  False   \n",
       "5    41   0  Cleveland  atypical angina     130.0  204.0  False   \n",
       "\n",
       "           restecg  thalch  exang  oldpeak        slope   ca  \\\n",
       "id                                                             \n",
       "1   lv hypertrophy   150.0  False      2.3  downsloping  0.0   \n",
       "2   lv hypertrophy   108.0   True      1.5         flat  3.0   \n",
       "3   lv hypertrophy   129.0   True      2.6         flat  2.0   \n",
       "4           normal   187.0  False      3.5  downsloping  0.0   \n",
       "5   lv hypertrophy   172.0  False      1.4    upsloping  0.0   \n",
       "\n",
       "                 thal  num  \n",
       "id                          \n",
       "1        fixed defect    0  \n",
       "2              normal    2  \n",
       "3   reversable defect    1  \n",
       "4              normal    0  \n",
       "5              normal    0  "
      ]
     },
     "execution_count": 18,
     "metadata": {},
     "output_type": "execute_result"
    }
   ],
   "source": [
    "data_cle.head()"
   ]
  },
  {
   "cell_type": "code",
   "execution_count": 19,
   "id": "adc0a963",
   "metadata": {},
   "outputs": [],
   "source": [
    "if 'dataset' in data_cle.columns:\n",
    "    data_cle = data_cle.drop(columns='dataset')"
   ]
  },
  {
   "cell_type": "code",
   "execution_count": 20,
   "id": "f0e5b4ad",
   "metadata": {},
   "outputs": [
    {
     "data": {
      "text/plain": [
       "Index(['age', 'sex', 'cp', 'trestbps', 'chol', 'fbs', 'restecg', 'thalch',\n",
       "       'exang', 'oldpeak', 'slope', 'ca', 'thal', 'num'],\n",
       "      dtype='object')"
      ]
     },
     "execution_count": 20,
     "metadata": {},
     "output_type": "execute_result"
    }
   ],
   "source": [
    "data_cle.columns"
   ]
  },
  {
   "cell_type": "code",
   "execution_count": 21,
   "id": "ea27135f",
   "metadata": {},
   "outputs": [
    {
     "data": {
      "text/plain": [
       "array(['typical angina', 'asymptomatic', 'non-anginal', 'atypical angina'],\n",
       "      dtype=object)"
      ]
     },
     "execution_count": 21,
     "metadata": {},
     "output_type": "execute_result"
    }
   ],
   "source": [
    "data_cle.cp.unique()"
   ]
  },
  {
   "cell_type": "code",
   "execution_count": 22,
   "id": "112de20b",
   "metadata": {},
   "outputs": [],
   "source": [
    "mapping = {\n",
    "    'typical angina': 1,\n",
    "    'atypical angina': 2,\n",
    "    'non-anginal': 3,\n",
    "    'asymptomatic': 4\n",
    "}\n",
    "\n",
    "data_cle['cp'] = data_cle['cp'].map(mapping)"
   ]
  },
  {
   "cell_type": "code",
   "execution_count": 23,
   "id": "967176b6",
   "metadata": {},
   "outputs": [],
   "source": [
    "#le_cp = LabelEncoder()\n",
    "#le_cp.fit(data_cle.loc[:,\"cp\"])\n",
    "#data_cle.loc[:,\"cp\"] = le_cp.transform(data_cle.loc[:,\"cp\"])\n",
    "\n",
    "#for class_label, encoded_label in zip(le_cp.classes_, range(len(le_cp.classes_))):\n",
    "#    print(f\"Original Label: {class_label} -> Encoded Label: {encoded_label}\")"
   ]
  },
  {
   "cell_type": "code",
   "execution_count": 24,
   "id": "350c5450",
   "metadata": {},
   "outputs": [],
   "source": [
    "data_cle.loc[data_cle[\"fbs\"]==False,\"fbs\"]=0\n",
    "data_cle.loc[data_cle[\"fbs\"]==True,\"fbs\"]=1"
   ]
  },
  {
   "cell_type": "code",
   "execution_count": 25,
   "id": "28ed8d1c",
   "metadata": {},
   "outputs": [
    {
     "data": {
      "text/plain": [
       "array(['lv hypertrophy', 'normal', 'st-t abnormality'], dtype=object)"
      ]
     },
     "execution_count": 25,
     "metadata": {},
     "output_type": "execute_result"
    }
   ],
   "source": [
    "data_cle.restecg.unique()"
   ]
  },
  {
   "cell_type": "code",
   "execution_count": 26,
   "id": "9de6dc95",
   "metadata": {},
   "outputs": [],
   "source": [
    "mapping_ecg = {\n",
    "    'normal': 0,\n",
    "    'st-t abnormality': 1,\n",
    "    'lv hypertrophy': 2,\n",
    "}\n",
    "\n",
    "data_cle['restecg'] = data_cle['restecg'].map(mapping_ecg)"
   ]
  },
  {
   "cell_type": "code",
   "execution_count": 27,
   "id": "f3089009",
   "metadata": {},
   "outputs": [],
   "source": [
    "#le_ecg = LabelEncoder()\n",
    "#le_ecg.fit(data_cle.loc[:,\"restecg\"])\n",
    "#data_cle.loc[:,\"restecg\"] = le_ecg.transform(data_cle.loc[:,\"restecg\"])\n",
    "#for class_label, encoded_label in zip(le_ecg.classes_, range(len(le_ecg.classes_))):\n",
    "#    print(f\"Original Label: {class_label} -> Encoded Label: {encoded_label}\")"
   ]
  },
  {
   "cell_type": "code",
   "execution_count": 28,
   "id": "eb65f99d",
   "metadata": {},
   "outputs": [],
   "source": [
    "data_cle.loc[data_cle[\"exang\"]==False,\"exang\"]=0\n",
    "data_cle.loc[data_cle[\"exang\"]==True,\"exang\"]=1"
   ]
  },
  {
   "cell_type": "code",
   "execution_count": 29,
   "id": "74a3d734",
   "metadata": {},
   "outputs": [
    {
     "data": {
      "text/plain": [
       "array(['downsloping', 'flat', 'upsloping'], dtype=object)"
      ]
     },
     "execution_count": 29,
     "metadata": {},
     "output_type": "execute_result"
    }
   ],
   "source": [
    "data_cle.slope.unique()"
   ]
  },
  {
   "cell_type": "code",
   "execution_count": 30,
   "id": "81652cc2",
   "metadata": {},
   "outputs": [],
   "source": [
    "mapping_slope = {\n",
    "    'upsloping': 1,\n",
    "    'flat': 2,\n",
    "    'downsloping': 3\n",
    "}\n",
    "\n",
    "data_cle['slope'] = data_cle['slope'].map(mapping_slope)"
   ]
  },
  {
   "cell_type": "code",
   "execution_count": 31,
   "id": "ac86230a",
   "metadata": {},
   "outputs": [],
   "source": [
    "#le_slope = LabelEncoder()\n",
    "#le_slope.fit(data_cle.loc[:,\"slope\"])\n",
    "#data_cle.loc[:,\"slope\"] = le_slope.transform(data_cle.loc[:,\"slope\"])\n",
    "#for class_label, encoded_label in zip(le_slope.classes_, range(len(le_slope.classes_))):\n",
    "#    print(f\"Original Label: {class_label} -> Encoded Label: {encoded_label}\")"
   ]
  },
  {
   "cell_type": "code",
   "execution_count": 32,
   "id": "b2928834",
   "metadata": {},
   "outputs": [
    {
     "data": {
      "text/plain": [
       "array(['fixed defect', 'normal', 'reversable defect', nan], dtype=object)"
      ]
     },
     "execution_count": 32,
     "metadata": {},
     "output_type": "execute_result"
    }
   ],
   "source": [
    "data_cle.thal.unique()"
   ]
  },
  {
   "cell_type": "code",
   "execution_count": 33,
   "id": "68d1aebf",
   "metadata": {},
   "outputs": [],
   "source": [
    "mapping_thal = {\n",
    "    'normal': 3,\n",
    "    'fixed defect': 6,\n",
    "    'reversable defect': 7\n",
    "}\n",
    "\n",
    "data_cle['thal'] = data_cle['thal'].map(mapping_thal)"
   ]
  },
  {
   "cell_type": "code",
   "execution_count": 34,
   "id": "aa6be507",
   "metadata": {},
   "outputs": [],
   "source": [
    "#le_thal = LabelEncoder()\n",
    "#le_thal.fit(data_cle.loc[:,\"thal\"])\n",
    "#data_cle.loc[:,\"thal\"] = le_thal.transform(data_cle.loc[:,\"thal\"])\n",
    "#for class_label, encoded_label in zip(le_thal.classes_, range(len(le_thal.classes_))):\n",
    "#    print(f\"Original Label: {class_label} -> Encoded Label: {encoded_label}\")\n",
    "\n",
    "#data_cle.loc[data_cle[\"thal\"]==3, \"thal\"]= np.nan"
   ]
  },
  {
   "cell_type": "code",
   "execution_count": 35,
   "id": "ae49fa39",
   "metadata": {
    "scrolled": false
   },
   "outputs": [
    {
     "data": {
      "text/html": [
       "<div>\n",
       "<style scoped>\n",
       "    .dataframe tbody tr th:only-of-type {\n",
       "        vertical-align: middle;\n",
       "    }\n",
       "\n",
       "    .dataframe tbody tr th {\n",
       "        vertical-align: top;\n",
       "    }\n",
       "\n",
       "    .dataframe thead th {\n",
       "        text-align: right;\n",
       "    }\n",
       "</style>\n",
       "<table border=\"1\" class=\"dataframe\">\n",
       "  <thead>\n",
       "    <tr style=\"text-align: right;\">\n",
       "      <th></th>\n",
       "      <th>age</th>\n",
       "      <th>sex</th>\n",
       "      <th>cp</th>\n",
       "      <th>trestbps</th>\n",
       "      <th>chol</th>\n",
       "      <th>fbs</th>\n",
       "      <th>restecg</th>\n",
       "      <th>thalch</th>\n",
       "      <th>exang</th>\n",
       "      <th>oldpeak</th>\n",
       "      <th>slope</th>\n",
       "      <th>ca</th>\n",
       "      <th>thal</th>\n",
       "      <th>num</th>\n",
       "    </tr>\n",
       "    <tr>\n",
       "      <th>id</th>\n",
       "      <th></th>\n",
       "      <th></th>\n",
       "      <th></th>\n",
       "      <th></th>\n",
       "      <th></th>\n",
       "      <th></th>\n",
       "      <th></th>\n",
       "      <th></th>\n",
       "      <th></th>\n",
       "      <th></th>\n",
       "      <th></th>\n",
       "      <th></th>\n",
       "      <th></th>\n",
       "      <th></th>\n",
       "    </tr>\n",
       "  </thead>\n",
       "  <tbody>\n",
       "    <tr>\n",
       "      <th>1</th>\n",
       "      <td>63</td>\n",
       "      <td>1</td>\n",
       "      <td>1</td>\n",
       "      <td>145.0</td>\n",
       "      <td>233.0</td>\n",
       "      <td>1</td>\n",
       "      <td>2</td>\n",
       "      <td>150.0</td>\n",
       "      <td>0</td>\n",
       "      <td>2.3</td>\n",
       "      <td>3</td>\n",
       "      <td>0.0</td>\n",
       "      <td>6.0</td>\n",
       "      <td>0</td>\n",
       "    </tr>\n",
       "    <tr>\n",
       "      <th>2</th>\n",
       "      <td>67</td>\n",
       "      <td>1</td>\n",
       "      <td>4</td>\n",
       "      <td>160.0</td>\n",
       "      <td>286.0</td>\n",
       "      <td>0</td>\n",
       "      <td>2</td>\n",
       "      <td>108.0</td>\n",
       "      <td>1</td>\n",
       "      <td>1.5</td>\n",
       "      <td>2</td>\n",
       "      <td>3.0</td>\n",
       "      <td>3.0</td>\n",
       "      <td>2</td>\n",
       "    </tr>\n",
       "    <tr>\n",
       "      <th>3</th>\n",
       "      <td>67</td>\n",
       "      <td>1</td>\n",
       "      <td>4</td>\n",
       "      <td>120.0</td>\n",
       "      <td>229.0</td>\n",
       "      <td>0</td>\n",
       "      <td>2</td>\n",
       "      <td>129.0</td>\n",
       "      <td>1</td>\n",
       "      <td>2.6</td>\n",
       "      <td>2</td>\n",
       "      <td>2.0</td>\n",
       "      <td>7.0</td>\n",
       "      <td>1</td>\n",
       "    </tr>\n",
       "    <tr>\n",
       "      <th>4</th>\n",
       "      <td>37</td>\n",
       "      <td>1</td>\n",
       "      <td>3</td>\n",
       "      <td>130.0</td>\n",
       "      <td>250.0</td>\n",
       "      <td>0</td>\n",
       "      <td>0</td>\n",
       "      <td>187.0</td>\n",
       "      <td>0</td>\n",
       "      <td>3.5</td>\n",
       "      <td>3</td>\n",
       "      <td>0.0</td>\n",
       "      <td>3.0</td>\n",
       "      <td>0</td>\n",
       "    </tr>\n",
       "    <tr>\n",
       "      <th>5</th>\n",
       "      <td>41</td>\n",
       "      <td>0</td>\n",
       "      <td>2</td>\n",
       "      <td>130.0</td>\n",
       "      <td>204.0</td>\n",
       "      <td>0</td>\n",
       "      <td>2</td>\n",
       "      <td>172.0</td>\n",
       "      <td>0</td>\n",
       "      <td>1.4</td>\n",
       "      <td>1</td>\n",
       "      <td>0.0</td>\n",
       "      <td>3.0</td>\n",
       "      <td>0</td>\n",
       "    </tr>\n",
       "  </tbody>\n",
       "</table>\n",
       "</div>"
      ],
      "text/plain": [
       "    age sex  cp  trestbps   chol fbs  restecg  thalch exang  oldpeak  slope  \\\n",
       "id                                                                            \n",
       "1    63   1   1     145.0  233.0   1        2   150.0     0      2.3      3   \n",
       "2    67   1   4     160.0  286.0   0        2   108.0     1      1.5      2   \n",
       "3    67   1   4     120.0  229.0   0        2   129.0     1      2.6      2   \n",
       "4    37   1   3     130.0  250.0   0        0   187.0     0      3.5      3   \n",
       "5    41   0   2     130.0  204.0   0        2   172.0     0      1.4      1   \n",
       "\n",
       "     ca  thal  num  \n",
       "id                  \n",
       "1   0.0   6.0    0  \n",
       "2   3.0   3.0    2  \n",
       "3   2.0   7.0    1  \n",
       "4   0.0   3.0    0  \n",
       "5   0.0   3.0    0  "
      ]
     },
     "execution_count": 35,
     "metadata": {},
     "output_type": "execute_result"
    }
   ],
   "source": [
    "data_cle.head(5)"
   ]
  },
  {
   "cell_type": "code",
   "execution_count": 36,
   "id": "9b91cdfa",
   "metadata": {},
   "outputs": [
    {
     "data": {
      "text/plain": [
       "age           int64\n",
       "sex          object\n",
       "cp            int64\n",
       "trestbps    float64\n",
       "chol        float64\n",
       "fbs          object\n",
       "restecg       int64\n",
       "thalch      float64\n",
       "exang        object\n",
       "oldpeak     float64\n",
       "slope         int64\n",
       "ca          float64\n",
       "thal        float64\n",
       "num           int64\n",
       "dtype: object"
      ]
     },
     "execution_count": 36,
     "metadata": {},
     "output_type": "execute_result"
    }
   ],
   "source": [
    "data_cle.dtypes"
   ]
  },
  {
   "cell_type": "code",
   "execution_count": 37,
   "id": "2aaafee3",
   "metadata": {},
   "outputs": [],
   "source": [
    "for col in data_cle.columns:\n",
    "    data_cle[col]=data_cle[col].astype(float)"
   ]
  },
  {
   "cell_type": "code",
   "execution_count": 38,
   "id": "1742fccd",
   "metadata": {},
   "outputs": [],
   "source": [
    "data_cle.columns = [\"Age\", \"Sex\", \"CP\", \"RestBP\", \"Chol\", \"FBS\", \"RestECG\", \"HeartBeat\", \"Exang\", \"OldPeak\", \"Slope\", \"CA\", \"Thal\", \"Target\"]"
   ]
  },
  {
   "cell_type": "code",
   "execution_count": 39,
   "id": "de095496",
   "metadata": {
    "scrolled": true
   },
   "outputs": [
    {
     "data": {
      "text/html": [
       "<div>\n",
       "<style scoped>\n",
       "    .dataframe tbody tr th:only-of-type {\n",
       "        vertical-align: middle;\n",
       "    }\n",
       "\n",
       "    .dataframe tbody tr th {\n",
       "        vertical-align: top;\n",
       "    }\n",
       "\n",
       "    .dataframe thead th {\n",
       "        text-align: right;\n",
       "    }\n",
       "</style>\n",
       "<table border=\"1\" class=\"dataframe\">\n",
       "  <thead>\n",
       "    <tr style=\"text-align: right;\">\n",
       "      <th></th>\n",
       "      <th>Age</th>\n",
       "      <th>Sex</th>\n",
       "      <th>CP</th>\n",
       "      <th>RestBP</th>\n",
       "      <th>Chol</th>\n",
       "      <th>FBS</th>\n",
       "      <th>RestECG</th>\n",
       "      <th>HeartBeat</th>\n",
       "      <th>Exang</th>\n",
       "      <th>OldPeak</th>\n",
       "      <th>Slope</th>\n",
       "      <th>CA</th>\n",
       "      <th>Thal</th>\n",
       "      <th>Target</th>\n",
       "    </tr>\n",
       "    <tr>\n",
       "      <th>id</th>\n",
       "      <th></th>\n",
       "      <th></th>\n",
       "      <th></th>\n",
       "      <th></th>\n",
       "      <th></th>\n",
       "      <th></th>\n",
       "      <th></th>\n",
       "      <th></th>\n",
       "      <th></th>\n",
       "      <th></th>\n",
       "      <th></th>\n",
       "      <th></th>\n",
       "      <th></th>\n",
       "      <th></th>\n",
       "    </tr>\n",
       "  </thead>\n",
       "  <tbody>\n",
       "    <tr>\n",
       "      <th>1</th>\n",
       "      <td>63.0</td>\n",
       "      <td>1.0</td>\n",
       "      <td>1.0</td>\n",
       "      <td>145.0</td>\n",
       "      <td>233.0</td>\n",
       "      <td>1.0</td>\n",
       "      <td>2.0</td>\n",
       "      <td>150.0</td>\n",
       "      <td>0.0</td>\n",
       "      <td>2.3</td>\n",
       "      <td>3.0</td>\n",
       "      <td>0.0</td>\n",
       "      <td>6.0</td>\n",
       "      <td>0.0</td>\n",
       "    </tr>\n",
       "    <tr>\n",
       "      <th>2</th>\n",
       "      <td>67.0</td>\n",
       "      <td>1.0</td>\n",
       "      <td>4.0</td>\n",
       "      <td>160.0</td>\n",
       "      <td>286.0</td>\n",
       "      <td>0.0</td>\n",
       "      <td>2.0</td>\n",
       "      <td>108.0</td>\n",
       "      <td>1.0</td>\n",
       "      <td>1.5</td>\n",
       "      <td>2.0</td>\n",
       "      <td>3.0</td>\n",
       "      <td>3.0</td>\n",
       "      <td>2.0</td>\n",
       "    </tr>\n",
       "    <tr>\n",
       "      <th>3</th>\n",
       "      <td>67.0</td>\n",
       "      <td>1.0</td>\n",
       "      <td>4.0</td>\n",
       "      <td>120.0</td>\n",
       "      <td>229.0</td>\n",
       "      <td>0.0</td>\n",
       "      <td>2.0</td>\n",
       "      <td>129.0</td>\n",
       "      <td>1.0</td>\n",
       "      <td>2.6</td>\n",
       "      <td>2.0</td>\n",
       "      <td>2.0</td>\n",
       "      <td>7.0</td>\n",
       "      <td>1.0</td>\n",
       "    </tr>\n",
       "    <tr>\n",
       "      <th>4</th>\n",
       "      <td>37.0</td>\n",
       "      <td>1.0</td>\n",
       "      <td>3.0</td>\n",
       "      <td>130.0</td>\n",
       "      <td>250.0</td>\n",
       "      <td>0.0</td>\n",
       "      <td>0.0</td>\n",
       "      <td>187.0</td>\n",
       "      <td>0.0</td>\n",
       "      <td>3.5</td>\n",
       "      <td>3.0</td>\n",
       "      <td>0.0</td>\n",
       "      <td>3.0</td>\n",
       "      <td>0.0</td>\n",
       "    </tr>\n",
       "    <tr>\n",
       "      <th>5</th>\n",
       "      <td>41.0</td>\n",
       "      <td>0.0</td>\n",
       "      <td>2.0</td>\n",
       "      <td>130.0</td>\n",
       "      <td>204.0</td>\n",
       "      <td>0.0</td>\n",
       "      <td>2.0</td>\n",
       "      <td>172.0</td>\n",
       "      <td>0.0</td>\n",
       "      <td>1.4</td>\n",
       "      <td>1.0</td>\n",
       "      <td>0.0</td>\n",
       "      <td>3.0</td>\n",
       "      <td>0.0</td>\n",
       "    </tr>\n",
       "  </tbody>\n",
       "</table>\n",
       "</div>"
      ],
      "text/plain": [
       "     Age  Sex   CP  RestBP   Chol  FBS  RestECG  HeartBeat  Exang  OldPeak  \\\n",
       "id                                                                           \n",
       "1   63.0  1.0  1.0   145.0  233.0  1.0      2.0      150.0    0.0      2.3   \n",
       "2   67.0  1.0  4.0   160.0  286.0  0.0      2.0      108.0    1.0      1.5   \n",
       "3   67.0  1.0  4.0   120.0  229.0  0.0      2.0      129.0    1.0      2.6   \n",
       "4   37.0  1.0  3.0   130.0  250.0  0.0      0.0      187.0    0.0      3.5   \n",
       "5   41.0  0.0  2.0   130.0  204.0  0.0      2.0      172.0    0.0      1.4   \n",
       "\n",
       "    Slope   CA  Thal  Target  \n",
       "id                            \n",
       "1     3.0  0.0   6.0     0.0  \n",
       "2     2.0  3.0   3.0     2.0  \n",
       "3     2.0  2.0   7.0     1.0  \n",
       "4     3.0  0.0   3.0     0.0  \n",
       "5     1.0  0.0   3.0     0.0  "
      ]
     },
     "execution_count": 39,
     "metadata": {},
     "output_type": "execute_result"
    }
   ],
   "source": [
    "data_cle.head()"
   ]
  },
  {
   "cell_type": "code",
   "execution_count": 40,
   "id": "88d6439e",
   "metadata": {},
   "outputs": [],
   "source": [
    "file_path_out = r\"C:\\Users\\ONE\\OneDrive - FFUNIZG\\Radna površina\\Faks\\CogSci\\DataScience\\data\\cleveland_lastminute.csv\"\n",
    "data_cle.to_csv(file_path_out, index=False)"
   ]
  }
 ],
 "metadata": {
  "kernelspec": {
   "display_name": "Python 3 (ipykernel)",
   "language": "python",
   "name": "python3"
  },
  "language_info": {
   "codemirror_mode": {
    "name": "ipython",
    "version": 3
   },
   "file_extension": ".py",
   "mimetype": "text/x-python",
   "name": "python",
   "nbconvert_exporter": "python",
   "pygments_lexer": "ipython3",
   "version": "3.10.2"
  }
 },
 "nbformat": 4,
 "nbformat_minor": 5
}
